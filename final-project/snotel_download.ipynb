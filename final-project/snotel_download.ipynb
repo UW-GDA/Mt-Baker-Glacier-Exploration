{
 "cells": [
  {
   "cell_type": "code",
   "execution_count": 4,
   "id": "c9f78fc2-38d8-462f-8a21-171b65368b96",
   "metadata": {},
   "outputs": [
    {
     "name": "stdout",
     "output_type": "stream",
     "text": [
      "  Package            Version  Build              Channel                    Size\n",
      "──────────────────────────────────────────────────────────────────────────────────\n",
      "  Install:\n",
      "──────────────────────────────────────────────────────────────────────────────────\n",
      "\n",
      "\u001b[32m  beautifulsoup4 \u001b[00m     4.10.0  pyha770c72_0       conda-forge/noarch        77 KB\n",
      "\u001b[32m  future         \u001b[00m     0.18.2  py39hf3d152e_4     conda-forge/linux-64     715 KB\n",
      "\u001b[32m  isodate        \u001b[00m      0.6.1  pyhd8ed1ab_0       conda-forge/noarch        28 KB\n",
      "\u001b[32m  libxslt        \u001b[00m     1.1.33  h0ef7038_3         conda-forge/linux-64     521 KB\n",
      "\u001b[32m  lxml           \u001b[00m      4.8.0  py39h107f48f_0     conda-forge/linux-64       2 MB\n",
      "\u001b[32m  soupsieve      \u001b[00m      2.3.1  pyhd8ed1ab_0       conda-forge/noarch        33 KB\n",
      "\u001b[32m  suds-jurko     \u001b[00m        0.6  py39hf3d152e_1005  conda-forge/linux-64     168 KB\n",
      "\u001b[32m  ulmo           \u001b[00m      0.8.8  pyh6c4a22f_0       conda-forge/noarch        63 KB\n",
      "\n",
      "  Upgrade:\n",
      "──────────────────────────────────────────────────────────────────────────────────\n",
      "\n",
      "\u001b[31m  ca-certificates\u001b[00m  2021.10.8  ha878542_0         installed                      \n",
      "\u001b[32m  ca-certificates\u001b[00m   2022.2.1  h06a4308_0         pkgs/main/linux-64       122 KB\n",
      "\u001b[31m  openssl        \u001b[00m     1.1.1l  h7f98852_0         installed                      \n",
      "\u001b[32m  openssl        \u001b[00m     1.1.1m  h7f8727e_0         pkgs/main/linux-64         3 MB\n",
      "\n",
      "  Summary:\n",
      "\n",
      "  Install: 8 packages\n",
      "  Upgrade: 2 packages\n",
      "\n",
      "  Total download: 6 MB\n",
      "\n",
      "──────────────────────────────────────────────────────────────────────────────────\n",
      "\n",
      "Preparing transaction: ...working... done\n",
      "Verifying transaction: ...working... done\n",
      "Executing transaction: ...working... done\n"
     ]
    }
   ],
   "source": [
    "#!conda install -q -u ulmo\n",
    "!mamba install -q -y ulmo"
   ]
  },
  {
   "cell_type": "code",
   "execution_count": 5,
   "id": "01d893e1-ab80-4584-bf7e-d27aeec3f71e",
   "metadata": {},
   "outputs": [],
   "source": [
    "import ulmo"
   ]
  },
  {
   "cell_type": "code",
   "execution_count": 3,
   "id": "9db4dbac-491a-4daf-8de2-0c4e127f1b03",
   "metadata": {},
   "outputs": [],
   "source": [
    "import os\n",
    "import numpy as np\n",
    "import matplotlib.pyplot as plt\n",
    "import pandas as pd\n",
    "import geopandas as gpd\n",
    "from shapely.geometry import Point"
   ]
  },
  {
   "cell_type": "code",
   "execution_count": null,
   "id": "ab859dc0-4954-4534-97f1-d43f12e88b60",
   "metadata": {},
   "outputs": [],
   "source": []
  },
  {
   "cell_type": "code",
   "execution_count": 11,
   "id": "4ae3c8f5-16de-48b5-bcc4-612da85a31d2",
   "metadata": {},
   "outputs": [],
   "source": [
    "site_list = ['SNOTEL:1011_WA_SNTL', 'SNOTEL:909_WA_SNTL', 'SNOTEL:999_WA_SNTL', 'SNOTEL:910_WA_SNTL']"
   ]
  },
  {
   "cell_type": "code",
   "execution_count": null,
   "id": "11abe6ee-5350-49a6-a1d9-f8e569f4799b",
   "metadata": {},
   "outputs": [],
   "source": []
  },
  {
   "cell_type": "code",
   "execution_count": 6,
   "id": "68ef067b-5199-4f98-b8b1-42b4a71ce599",
   "metadata": {},
   "outputs": [],
   "source": [
    "#http://his.cuahsi.org/wofws.html\n",
    "wsdlurl = 'https://hydroportal.cuahsi.org/Snotel/cuahsi_1_1.asmx?WSDL'"
   ]
  },
  {
   "cell_type": "code",
   "execution_count": 7,
   "id": "230c0ad1-0e2e-4413-b585-a09909aeeb09",
   "metadata": {},
   "outputs": [
    {
     "data": {
      "text/plain": [
       "'2022-03-08'"
      ]
     },
     "execution_count": 7,
     "metadata": {},
     "output_type": "execute_result"
    }
   ],
   "source": [
    "today = pd.to_datetime(\"today\")\n",
    "today.strftime('%Y-%m-%d')"
   ]
  },
  {
   "cell_type": "code",
   "execution_count": 8,
   "id": "29d42a30-c5d9-48bf-b802-0fd3de16a5b2",
   "metadata": {},
   "outputs": [],
   "source": [
    "sites = ulmo.cuahsi.wof.get_sites(wsdlurl)"
   ]
  },
  {
   "cell_type": "code",
   "execution_count": 10,
   "id": "42921b67-14cb-43f3-bfc2-f7854a7e37e2",
   "metadata": {},
   "outputs": [
    {
     "data": {
      "text/html": [
       "<div>\n",
       "<style scoped>\n",
       "    .dataframe tbody tr th:only-of-type {\n",
       "        vertical-align: middle;\n",
       "    }\n",
       "\n",
       "    .dataframe tbody tr th {\n",
       "        vertical-align: top;\n",
       "    }\n",
       "\n",
       "    .dataframe thead th {\n",
       "        text-align: right;\n",
       "    }\n",
       "</style>\n",
       "<table border=\"1\" class=\"dataframe\">\n",
       "  <thead>\n",
       "    <tr style=\"text-align: right;\">\n",
       "      <th></th>\n",
       "      <th>code</th>\n",
       "      <th>name</th>\n",
       "      <th>network</th>\n",
       "      <th>location</th>\n",
       "      <th>elevation_m</th>\n",
       "      <th>site_property</th>\n",
       "    </tr>\n",
       "  </thead>\n",
       "  <tbody>\n",
       "    <tr>\n",
       "      <th>SNOTEL:301_CA_SNTL</th>\n",
       "      <td>301_CA_SNTL</td>\n",
       "      <td>Adin Mtn</td>\n",
       "      <td>SNOTEL</td>\n",
       "      <td>{'latitude': '41.2358283996582', 'longitude': ...</td>\n",
       "      <td>1886.7120361328125</td>\n",
       "      <td>{'county': 'Modoc', 'state': 'California', 'si...</td>\n",
       "    </tr>\n",
       "    <tr>\n",
       "      <th>SNOTEL:907_UT_SNTL</th>\n",
       "      <td>907_UT_SNTL</td>\n",
       "      <td>Agua Canyon</td>\n",
       "      <td>SNOTEL</td>\n",
       "      <td>{'latitude': '37.522171020507813', 'longitude'...</td>\n",
       "      <td>2712.719970703125</td>\n",
       "      <td>{'county': 'Kane', 'state': 'Utah', 'site_comm...</td>\n",
       "    </tr>\n",
       "    <tr>\n",
       "      <th>SNOTEL:916_MT_SNTL</th>\n",
       "      <td>916_MT_SNTL</td>\n",
       "      <td>Albro Lake</td>\n",
       "      <td>SNOTEL</td>\n",
       "      <td>{'latitude': '45.59722900390625', 'longitude':...</td>\n",
       "      <td>2529.840087890625</td>\n",
       "      <td>{'county': 'Madison', 'state': 'Montana', 'sit...</td>\n",
       "    </tr>\n",
       "    <tr>\n",
       "      <th>SNOTEL:1267_AK_SNTL</th>\n",
       "      <td>1267_AK_SNTL</td>\n",
       "      <td>Alexander Lake</td>\n",
       "      <td>SNOTEL</td>\n",
       "      <td>{'latitude': '61.749668121337891', 'longitude'...</td>\n",
       "      <td>48.768001556396484</td>\n",
       "      <td>{'county': 'Matanuska-Susitna', 'state': 'Alas...</td>\n",
       "    </tr>\n",
       "    <tr>\n",
       "      <th>SNOTEL:908_WA_SNTL</th>\n",
       "      <td>908_WA_SNTL</td>\n",
       "      <td>Alpine Meadows</td>\n",
       "      <td>SNOTEL</td>\n",
       "      <td>{'latitude': '47.779571533203125', 'longitude'...</td>\n",
       "      <td>1066.800048828125</td>\n",
       "      <td>{'county': 'King', 'state': 'Washington', 'sit...</td>\n",
       "    </tr>\n",
       "  </tbody>\n",
       "</table>\n",
       "</div>"
      ],
      "text/plain": [
       "                             code            name network  \\\n",
       "SNOTEL:301_CA_SNTL    301_CA_SNTL        Adin Mtn  SNOTEL   \n",
       "SNOTEL:907_UT_SNTL    907_UT_SNTL     Agua Canyon  SNOTEL   \n",
       "SNOTEL:916_MT_SNTL    916_MT_SNTL      Albro Lake  SNOTEL   \n",
       "SNOTEL:1267_AK_SNTL  1267_AK_SNTL  Alexander Lake  SNOTEL   \n",
       "SNOTEL:908_WA_SNTL    908_WA_SNTL  Alpine Meadows  SNOTEL   \n",
       "\n",
       "                                                              location  \\\n",
       "SNOTEL:301_CA_SNTL   {'latitude': '41.2358283996582', 'longitude': ...   \n",
       "SNOTEL:907_UT_SNTL   {'latitude': '37.522171020507813', 'longitude'...   \n",
       "SNOTEL:916_MT_SNTL   {'latitude': '45.59722900390625', 'longitude':...   \n",
       "SNOTEL:1267_AK_SNTL  {'latitude': '61.749668121337891', 'longitude'...   \n",
       "SNOTEL:908_WA_SNTL   {'latitude': '47.779571533203125', 'longitude'...   \n",
       "\n",
       "                            elevation_m  \\\n",
       "SNOTEL:301_CA_SNTL   1886.7120361328125   \n",
       "SNOTEL:907_UT_SNTL    2712.719970703125   \n",
       "SNOTEL:916_MT_SNTL    2529.840087890625   \n",
       "SNOTEL:1267_AK_SNTL  48.768001556396484   \n",
       "SNOTEL:908_WA_SNTL    1066.800048828125   \n",
       "\n",
       "                                                         site_property  \n",
       "SNOTEL:301_CA_SNTL   {'county': 'Modoc', 'state': 'California', 'si...  \n",
       "SNOTEL:907_UT_SNTL   {'county': 'Kane', 'state': 'Utah', 'site_comm...  \n",
       "SNOTEL:916_MT_SNTL   {'county': 'Madison', 'state': 'Montana', 'sit...  \n",
       "SNOTEL:1267_AK_SNTL  {'county': 'Matanuska-Susitna', 'state': 'Alas...  \n",
       "SNOTEL:908_WA_SNTL   {'county': 'King', 'state': 'Washington', 'sit...  "
      ]
     },
     "execution_count": 10,
     "metadata": {},
     "output_type": "execute_result"
    }
   ],
   "source": [
    "sites_df = pd.DataFrame.from_dict(sites, orient='index').dropna()\n",
    "sites_df.head()"
   ]
  },
  {
   "cell_type": "code",
   "execution_count": 12,
   "id": "687017fc-50ec-40a1-9636-eb57f487d988",
   "metadata": {},
   "outputs": [],
   "source": [
    "baker_snotel = sites_df.loc[ sites_df.index.isin(site_list), : ]"
   ]
  },
  {
   "cell_type": "code",
   "execution_count": 15,
   "id": "194dfcdf-a195-4750-841c-51c32cb4f696",
   "metadata": {},
   "outputs": [
    {
     "name": "stderr",
     "output_type": "stream",
     "text": [
      "/srv/conda/envs/notebook/lib/python3.9/site-packages/pandas/core/dtypes/cast.py:118: ShapelyDeprecationWarning: The array interface is deprecated and will no longer work in Shapely 2.0. Convert the '.coords' to a numpy array instead.\n",
      "  arr = construct_1d_object_array_from_listlike(values)\n",
      "/tmp/ipykernel_342/975464778.py:1: SettingWithCopyWarning: \n",
      "A value is trying to be set on a copy of a slice from a DataFrame.\n",
      "Try using .loc[row_indexer,col_indexer] = value instead\n",
      "\n",
      "See the caveats in the documentation: https://pandas.pydata.org/pandas-docs/stable/user_guide/indexing.html#returning-a-view-versus-a-copy\n",
      "  baker_snotel['geometry'] = [Point(float(l['longitude']), float(l['latitude'])) for l in baker_snotel['location']]\n"
     ]
    }
   ],
   "source": [
    "baker_snotel['geometry'] = [Point(float(l['longitude']), float(l['latitude'])) for l in baker_snotel['location']]"
   ]
  },
  {
   "cell_type": "code",
   "execution_count": 16,
   "id": "1cece7a9-c48e-4601-b181-a5abc27c7aeb",
   "metadata": {},
   "outputs": [],
   "source": [
    "baker_snotel = baker_snotel.drop(columns='location')\n",
    "baker_snotel = baker_snotel.astype({\"elevation_m\":float})"
   ]
  },
  {
   "cell_type": "code",
   "execution_count": 17,
   "id": "edb9fa5d-995e-463b-b305-3403b1aea544",
   "metadata": {},
   "outputs": [
    {
     "data": {
      "text/plain": [
       "(4, 6)"
      ]
     },
     "execution_count": 17,
     "metadata": {},
     "output_type": "execute_result"
    }
   ],
   "source": [
    "baker_snotel_gdf = gpd.GeoDataFrame(baker_snotel, crs='EPSG:4326')\n",
    "baker_snotel_gdf.shape"
   ]
  },
  {
   "cell_type": "code",
   "execution_count": 18,
   "id": "3a808a75-3597-4ac3-a678-41f195881663",
   "metadata": {},
   "outputs": [],
   "source": [
    "baker_snotel = 'snotel_conus_baker.json'\n",
    "if not os.path.exists(baker_snotel):\n",
    "    baker_snotel_gdf.to_file(baker_snotel, driver='GeoJSON')"
   ]
  },
  {
   "cell_type": "code",
   "execution_count": 26,
   "id": "25dd1bc1-4fbe-4a03-af75-e6ef8ed990f9",
   "metadata": {},
   "outputs": [],
   "source": [
    "#Get current datetime\n",
    "today = pd.to_datetime(\"today\").strftime('%Y-%m-%d')\n",
    "\n",
    "def snotel_fetch(sitecode, variablecode='SNOTEL:WTEQ_D', start_date='1950-10-01', end_date=today):\n",
    "    #print(sitecode, variablecode, start_date, end_date)\n",
    "    values_df = None\n",
    "    try:\n",
    "        #Request data from the server\n",
    "        site_values = ulmo.cuahsi.wof.get_values(wsdlurl, sitecode, variablecode, start=start_date, end=end_date)\n",
    "    except:\n",
    "        print(f\"Unable to fetch {variablecode} for {sitecode}\")\n",
    "    else:\n",
    "        #Convert to a Pandas DataFrame   \n",
    "        values_df = pd.DataFrame.from_dict(site_values['values'])\n",
    "        #Parse the datetime values to Pandas Timestamp objects\n",
    "        values_df['datetime'] = pd.to_datetime(values_df['datetime'], utc=True)\n",
    "        #Set the DataFrame index to the Timestamps\n",
    "        values_df = values_df.set_index('datetime')\n",
    "        #Convert values to float and replace -9999 nodata values with NaN\n",
    "        values_df['value'] = pd.to_numeric(values_df['value']).replace(-9999, np.nan)\n",
    "        #Remove any records flagged with lower quality\n",
    "        values_df = values_df[values_df['quality_control_level_code'] == '1']\n",
    "\n",
    "    return values_df"
   ]
  },
  {
   "cell_type": "code",
   "execution_count": 27,
   "id": "954087ca-02b8-41eb-8a9b-9acc7d382992",
   "metadata": {},
   "outputs": [],
   "source": [
    "#Isolated to WA SNOTEL sites\n",
    "pkl_fn = 'snotel_wteq_d_baker.pkl'\n",
    "gdf = baker_snotel_gdf"
   ]
  },
  {
   "cell_type": "code",
   "execution_count": 28,
   "id": "057462a8-edb3-40aa-a0f8-b406b506a294",
   "metadata": {},
   "outputs": [],
   "source": [
    "variablecode = 'SNOTEL:WTEQ_D'\n",
    "#variablecode = 'SNOTEL:SNWD_D'"
   ]
  },
  {
   "cell_type": "code",
   "execution_count": 29,
   "id": "64bbf97d-68e9-4480-8524-8bb9b48b6949",
   "metadata": {},
   "outputs": [
    {
     "name": "stdout",
     "output_type": "stream",
     "text": [
      "1 of 4 sites: SNOTEL:910_WA_SNTL\n",
      "2 of 4 sites: SNOTEL:999_WA_SNTL\n",
      "3 of 4 sites: SNOTEL:1011_WA_SNTL\n",
      "4 of 4 sites: SNOTEL:909_WA_SNTL\n",
      "Writing out: snotel_wteq_d_baker.pkl\n",
      "CPU times: user 3.72 s, sys: 26.4 ms, total: 3.75 s\n",
      "Wall time: 13.2 s\n"
     ]
    }
   ],
   "source": [
    "%%time\n",
    "if os.path.exists(pkl_fn):\n",
    "    snwd_df = pd.read_pickle(pkl_fn)\n",
    "else:\n",
    "    #Define an empty dictionary to store returns for each site\n",
    "    value_dict = {}\n",
    "    #Loop through each site and add record to dictionary\n",
    "    for i, sitecode in enumerate(gdf.index):\n",
    "        print('%i of %i sites: %s' % (i+1, len(gdf.index), sitecode))\n",
    "        #out = snotel_fetch(sitecode, variablecode, start_date, end_date)\n",
    "        out = snotel_fetch(sitecode, variablecode)\n",
    "        if out is not None:\n",
    "            value_dict[sitecode] = out['value']\n",
    "    \n",
    "    #Convert the dictionary to a DataFrame, automatically handles different datetime ranges (nice!)\n",
    "    snwd_df = pd.DataFrame.from_dict(value_dict)\n",
    "    #Write out\n",
    "    print(f\"Writing out: {pkl_fn}\")\n",
    "    snwd_df.to_pickle(pkl_fn)"
   ]
  },
  {
   "cell_type": "code",
   "execution_count": null,
   "id": "63eef388-fd8e-4e6e-9ebf-6d99ab1b22ec",
   "metadata": {},
   "outputs": [],
   "source": []
  }
 ],
 "metadata": {
  "kernelspec": {
   "display_name": "Python 3 (ipykernel)",
   "language": "python",
   "name": "python3"
  },
  "language_info": {
   "codemirror_mode": {
    "name": "ipython",
    "version": 3
   },
   "file_extension": ".py",
   "mimetype": "text/x-python",
   "name": "python",
   "nbconvert_exporter": "python",
   "pygments_lexer": "ipython3",
   "version": "3.9.7"
  }
 },
 "nbformat": 4,
 "nbformat_minor": 5
}
