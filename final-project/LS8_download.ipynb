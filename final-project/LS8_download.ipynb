{
 "cells": [
  {
   "cell_type": "code",
   "execution_count": 58,
   "id": "ee82f9c8-1cf4-4250-b406-dd2162331822",
   "metadata": {},
   "outputs": [],
   "source": [
    "import os\n",
    "import urllib\n",
    "import rasterio as rio\n",
    "import rasterio.plot"
   ]
  },
  {
   "cell_type": "code",
   "execution_count": 59,
   "id": "5369b431-bf2f-41ed-949b-dd41237ea0f8",
   "metadata": {},
   "outputs": [],
   "source": [
    "from pystac_client import Client\n",
    "from pystac.extensions.eo import EOExtension as eo\n",
    "import planetary_computer as pc"
   ]
  },
  {
   "cell_type": "code",
   "execution_count": 60,
   "id": "9a40c73d-8603-4107-9927-317f798d26c1",
   "metadata": {},
   "outputs": [],
   "source": [
    "area_of_interest = {\n",
    "    \"type\": \"Polygon\",\n",
    "    \"coordinates\": [\n",
    "        [\n",
    "            [-122.011416, 48.616138],\n",
    "            [-121.593718, 48.616138],\n",
    "            [-121.593718, 48.912002],\n",
    "            [-122.011416, 48.912002],\n",
    "            [-122.011416, 48.616138],\n",
    "        ]\n",
    "    ],\n",
    "}"
   ]
  },
  {
   "cell_type": "code",
   "execution_count": 115,
   "id": "f9f97edb-7568-4990-b292-09acb0891181",
   "metadata": {},
   "outputs": [],
   "source": [
    "time_of_interest = \"2020-06-01/2020-08-01\""
   ]
  },
  {
   "cell_type": "code",
   "execution_count": 116,
   "id": "3b7842d5-6aa6-4d5d-96c3-bfe4a6095570",
   "metadata": {},
   "outputs": [
    {
     "name": "stdout",
     "output_type": "stream",
     "text": [
      "Returned 1 Items\n"
     ]
    }
   ],
   "source": [
    "catalog = Client.open(\"https://planetarycomputer.microsoft.com/api/stac/v1\")\n",
    "\n",
    "search = catalog.search(\n",
    "    collections=[\"landsat-8-c2-l2\"],\n",
    "    intersects=area_of_interest,\n",
    "    datetime=time_of_interest,\n",
    "    query={\"eo:cloud_cover\": {\"lt\": 10}},\n",
    ")\n",
    "\n",
    "# Check how many items were returned\n",
    "items = list(search.get_items())\n",
    "print(f\"Returned {len(items)} Items\")"
   ]
  },
  {
   "cell_type": "code",
   "execution_count": 117,
   "id": "3d3e2f78-5e35-4fed-9aa1-c1849d32c7e9",
   "metadata": {},
   "outputs": [
    {
     "name": "stdout",
     "output_type": "stream",
     "text": [
      "Choosing LC08_L2SP_047026_20200729_02_T1 from 2020-07-29 with 6.49% cloud cover\n"
     ]
    }
   ],
   "source": [
    "selected_item = sorted(items, key=lambda item: eo.ext(item).cloud_cover)[0]\n",
    "\n",
    "print(\n",
    "    f\"Choosing {selected_item.id} from {selected_item.datetime.date()}\"\n",
    "    + f\" with {selected_item.properties['eo:cloud_cover']}% cloud cover\"\n",
    ")"
   ]
  },
  {
   "cell_type": "code",
   "execution_count": 118,
   "id": "6fb6a606-083a-4a29-ae74-997147540ff0",
   "metadata": {},
   "outputs": [
    {
     "data": {
      "text/plain": [
       "'LC08_L2SP_047026_20200729_02_T1'"
      ]
     },
     "execution_count": 118,
     "metadata": {},
     "output_type": "execute_result"
    }
   ],
   "source": [
    "selected_item.id"
   ]
  },
  {
   "cell_type": "code",
   "execution_count": 119,
   "id": "282aeaa4-28b4-4780-854b-605838df5e6c",
   "metadata": {},
   "outputs": [],
   "source": [
    "asset_id_list = ['SR_B1', 'SR_B2', 'SR_B3', 'SR_B4', 'SR_B5', 'SR_B6', 'SR_B7', 'ST_B10', 'reduced_resolution_browse']"
   ]
  },
  {
   "cell_type": "code",
   "execution_count": 120,
   "id": "c8d96638-4c96-40e8-9410-237c3cf6a288",
   "metadata": {},
   "outputs": [],
   "source": [
    "imgdir = 'LS8_2020'\n",
    "if not os.path.exists(imgdir):\n",
    "    os.makedirs(imgdir)"
   ]
  },
  {
   "cell_type": "code",
   "execution_count": 121,
   "id": "4ab3d727-5788-4857-8dfc-337d9056d7d2",
   "metadata": {},
   "outputs": [
    {
     "name": "stdout",
     "output_type": "stream",
     "text": [
      "https://landsateuwest.blob.core.windows.net/landsat-c2/level-2/standard/oli-tirs/2020/047/026/LC08_L2SP_047026_20200729_20200908_02_T1/LC08_L2SP_047026_20200729_20200908_02_T1_SR_B1.TIF\n",
      "Saving: LS8_2020/LC08_L2SP_047026_20200729_20200908_02_T1_SR_B1.TIF\n",
      "https://landsateuwest.blob.core.windows.net/landsat-c2/level-2/standard/oli-tirs/2020/047/026/LC08_L2SP_047026_20200729_20200908_02_T1/LC08_L2SP_047026_20200729_20200908_02_T1_SR_B2.TIF\n",
      "Saving: LS8_2020/LC08_L2SP_047026_20200729_20200908_02_T1_SR_B2.TIF\n",
      "https://landsateuwest.blob.core.windows.net/landsat-c2/level-2/standard/oli-tirs/2020/047/026/LC08_L2SP_047026_20200729_20200908_02_T1/LC08_L2SP_047026_20200729_20200908_02_T1_SR_B3.TIF\n",
      "Saving: LS8_2020/LC08_L2SP_047026_20200729_20200908_02_T1_SR_B3.TIF\n",
      "https://landsateuwest.blob.core.windows.net/landsat-c2/level-2/standard/oli-tirs/2020/047/026/LC08_L2SP_047026_20200729_20200908_02_T1/LC08_L2SP_047026_20200729_20200908_02_T1_SR_B4.TIF\n",
      "Saving: LS8_2020/LC08_L2SP_047026_20200729_20200908_02_T1_SR_B4.TIF\n",
      "https://landsateuwest.blob.core.windows.net/landsat-c2/level-2/standard/oli-tirs/2020/047/026/LC08_L2SP_047026_20200729_20200908_02_T1/LC08_L2SP_047026_20200729_20200908_02_T1_SR_B5.TIF\n",
      "Saving: LS8_2020/LC08_L2SP_047026_20200729_20200908_02_T1_SR_B5.TIF\n",
      "https://landsateuwest.blob.core.windows.net/landsat-c2/level-2/standard/oli-tirs/2020/047/026/LC08_L2SP_047026_20200729_20200908_02_T1/LC08_L2SP_047026_20200729_20200908_02_T1_SR_B6.TIF\n",
      "Saving: LS8_2020/LC08_L2SP_047026_20200729_20200908_02_T1_SR_B6.TIF\n",
      "https://landsateuwest.blob.core.windows.net/landsat-c2/level-2/standard/oli-tirs/2020/047/026/LC08_L2SP_047026_20200729_20200908_02_T1/LC08_L2SP_047026_20200729_20200908_02_T1_SR_B7.TIF\n",
      "Saving: LS8_2020/LC08_L2SP_047026_20200729_20200908_02_T1_SR_B7.TIF\n",
      "https://landsateuwest.blob.core.windows.net/landsat-c2/level-2/standard/oli-tirs/2020/047/026/LC08_L2SP_047026_20200729_20200908_02_T1/LC08_L2SP_047026_20200729_20200908_02_T1_ST_B10.TIF\n",
      "Saving: LS8_2020/LC08_L2SP_047026_20200729_20200908_02_T1_ST_B10.TIF\n",
      "https://landsateuwest.blob.core.windows.net/landsat-c2/level-2/standard/oli-tirs/2020/047/026/LC08_L2SP_047026_20200729_20200908_02_T1/LC08_L2SP_047026_20200729_20200908_02_T1_thumb_large.jpeg\n",
      "Saving: LS8_2020/LC08_L2SP_047026_20200729_20200908_02_T1_thumb_large.jpeg\n"
     ]
    }
   ],
   "source": [
    "import pystac\n",
    "import planetary_computer\n",
    "import rioxarray\n",
    "\n",
    "item_url = f\"https://planetarycomputer.microsoft.com/api/stac/v1/collections/landsat-8-c2-l2/items/{selected_item.id}\"\n",
    "\n",
    "# Load the individual item metadata and sign the assets\n",
    "item = pystac.Item.from_file(item_url)\n",
    "signed_item = planetary_computer.sign(item)\n",
    "\n",
    "\n",
    "for asset_id in asset_id_list:\n",
    "    asset = item.assets[asset_id]\n",
    "    print(asset.href)\n",
    "    # NOTE: must 'sign' asset URLs before you can access them\n",
    "    signed_asset = pc.sign_asset(asset)\n",
    "    #print(signed_asset.href)\n",
    "    #Local filename\n",
    "    out_fn = os.path.join(imgdir, os.path.split(asset.href)[-1])\n",
    "    #Check to see if file already exists\n",
    "    if not os.path.exists(out_fn):\n",
    "        print(\"Saving:\", out_fn)\n",
    "        #Download the file\n",
    "        urllib.request.urlretrieve(signed_asset.href, out_fn)\n"
   ]
  },
  {
   "cell_type": "code",
   "execution_count": null,
   "id": "ed049523-4b07-4dee-bf5e-2d775d6ce524",
   "metadata": {},
   "outputs": [],
   "source": []
  }
 ],
 "metadata": {
  "kernelspec": {
   "display_name": "Python 3 (ipykernel)",
   "language": "python",
   "name": "python3"
  },
  "language_info": {
   "codemirror_mode": {
    "name": "ipython",
    "version": 3
   },
   "file_extension": ".py",
   "mimetype": "text/x-python",
   "name": "python",
   "nbconvert_exporter": "python",
   "pygments_lexer": "ipython3",
   "version": "3.9.7"
  }
 },
 "nbformat": 4,
 "nbformat_minor": 5
}
